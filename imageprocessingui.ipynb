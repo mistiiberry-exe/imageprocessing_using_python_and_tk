{
 "cells": [
  {
   "cell_type": "code",
   "execution_count": 1,
   "id": "aa088caa",
   "metadata": {},
   "outputs": [
    {
     "ename": "ModuleNotFoundError",
     "evalue": "No module named 'cv2'",
     "output_type": "error",
     "traceback": [
      "\u001b[1;31m---------------------------------------------------------------------------\u001b[0m",
      "\u001b[1;31mModuleNotFoundError\u001b[0m                       Traceback (most recent call last)",
      "Cell \u001b[1;32mIn[1], line 7\u001b[0m\n\u001b[0;32m      5\u001b[0m \u001b[38;5;28;01mfrom\u001b[39;00m \u001b[38;5;21;01mPIL\u001b[39;00m \u001b[38;5;28;01mimport\u001b[39;00m ImageFilter\n\u001b[0;32m      6\u001b[0m \u001b[38;5;28;01mfrom\u001b[39;00m \u001b[38;5;21;01mtkinter\u001b[39;00m \u001b[38;5;28;01mimport\u001b[39;00m filedialog\n\u001b[1;32m----> 7\u001b[0m \u001b[38;5;28;01mimport\u001b[39;00m \u001b[38;5;21;01mcv2\u001b[39;00m\n\u001b[0;32m      8\u001b[0m \u001b[38;5;28;01mfrom\u001b[39;00m \u001b[38;5;21;01mskimage\u001b[39;00m \u001b[38;5;28;01mimport\u001b[39;00m filters\n\u001b[0;32m      9\u001b[0m \u001b[38;5;28;01mimport\u001b[39;00m \u001b[38;5;21;01mskimage\u001b[39;00m\n",
      "\u001b[1;31mModuleNotFoundError\u001b[0m: No module named 'cv2'"
     ]
    }
   ],
   "source": [
    "import PIL\n",
    "from tkinter import *\n",
    "from PIL import Image\n",
    "from PIL import ImageTk\n",
    "from PIL import ImageFilter\n",
    "from tkinter import filedialog\n",
    "import cv2\n",
    "from skimage import filters\n",
    "import skimage\n",
    "import mahotas\n",
    "import mahotas.demos\n",
    "import numpy as np"
   ]
  },
  {
   "cell_type": "code",
   "execution_count": 2,
   "id": "839f0dd8",
   "metadata": {},
   "outputs": [
    {
     "name": "stdout",
     "output_type": "stream",
     "text": [
      "Defaulting to user installation because normal site-packages is not writeable\n",
      "Note: you may need to restart the kernel to use updated packages.\n"
     ]
    },
    {
     "name": "stderr",
     "output_type": "stream",
     "text": [
      "ERROR: Could not find a version that satisfies the requirement cv2 (from versions: none)\n",
      "ERROR: No matching distribution found for cv2\n"
     ]
    }
   ],
   "source": [
    "pip install cv2"
   ]
  },
  {
   "cell_type": "code",
   "execution_count": 19,
   "id": "ed937cb4",
   "metadata": {},
   "outputs": [],
   "source": [
    "def upload():\n",
    "    global panelA, panelB, image\n",
    "    f_types = [('Jpg Files', '*.jpg'),('PNG Files','*.png')] \n",
    "    path = filedialog.askopenfilename(filetypes=f_types)\n",
    "    image = cv2.imread(path) \n",
    "    image = cv2.resize(image, (500,500))\n",
    "\n",
    "    image = cv2.cvtColor(image, cv2.COLOR_BGR2RGB)\n",
    "    image1 = Image.fromarray(image)\n",
    "\n",
    "    image1 = ImageTk.PhotoImage(image1)\n",
    "\n",
    "    panelA = Label(image=image1, borderwidth=5, relief=\"sunken\")\n",
    "    panelA.image = image1\n",
    "    panelA.grid(row= 1, column=1 , rowspan= 13, columnspan= 3, padx=20, pady=20)\n",
    "    \n",
    "    return image"
   ]
  },
  {
   "cell_type": "code",
   "execution_count": null,
   "id": "273be18b",
   "metadata": {},
   "outputs": [],
   "source": [
    "def grayscale():\n",
    "    grayimg= cv2.cvtColor(image, cv2.COLOR_BGR2GRAY)\n",
    "    grayimg1= Image.fromarray(grayimg)\n",
    "    \n",
    "    grayimg1= ImageTk.PhotoImage(grayimg1)\n",
    "    \n",
    "    panelB = Label(image=grayimg1, borderwidth=5, relief=\"sunken\")\n",
    "    panelB.image = grayimg1\n",
    "    panelB.grid(row= 1, column=4 , rowspan= 13,columnspan= 3, padx=20, pady=20)\n",
    "    \n",
    "    return grayimg"
   ]
  },
  {
   "cell_type": "code",
   "execution_count": null,
   "id": "49d80317",
   "metadata": {},
   "outputs": [],
   "source": [
    "def negative():\n",
    "    neg= 255 - image\n",
    "    neg1= Image.fromarray(neg)\n",
    "    \n",
    "    neg1= ImageTk.PhotoImage(neg1)\n",
    "    \n",
    "    panelB = Label(image=neg1, borderwidth=5, relief=\"sunken\")\n",
    "    panelB.image = neg1\n",
    "    panelB.grid(row= 1, column=4 , rowspan= 13,columnspan= 3, padx=20, pady=20)\n",
    "    \n",
    "    return neg"
   ]
  },
  {
   "cell_type": "code",
   "execution_count": null,
   "id": "0111c44d",
   "metadata": {},
   "outputs": [],
   "source": [
    "def threshold():\n",
    "    image = grayscale()\n",
    "    \n",
    "    ret, thresh = cv2.threshold(image, 127, 255, cv2.THRESH_BINARY)\n",
    "    thresh1= Image.fromarray(thresh)\n",
    "    \n",
    "    thresh1= ImageTk.PhotoImage(thresh1)\n",
    "    \n",
    "    panelB = Label(image=thresh1, borderwidth=5, relief=\"sunken\")\n",
    "    panelB.image = thresh1\n",
    "    panelB.grid(row= 1, column=4 , rowspan= 13,columnspan= 3, padx=20, pady=20)\n",
    "        \n",
    "    return thresh"
   ]
  },
  {
   "cell_type": "code",
   "execution_count": null,
   "id": "818f177f",
   "metadata": {},
   "outputs": [],
   "source": [
    "def redext():\n",
    "    row,col,plane = image.shape\n",
    "                \n",
    "    red = np.zeros((row,col,plane),np.uint8)\n",
    "    red[:,:,0] = image[:,:,0]\n",
    "    \n",
    "    red1 = Image.fromarray(red)\n",
    "    \n",
    "    red1= ImageTk.PhotoImage(red1)\n",
    "    \n",
    "    panelB = Label(image=red1, borderwidth=5, relief=\"sunken\")\n",
    "    panelB.image = red1\n",
    "    panelB.grid(row= 1, column=4 , rowspan= 13,columnspan= 3, padx=20, pady=20)\n",
    "        \n",
    "    return red"
   ]
  },
  {
   "cell_type": "code",
   "execution_count": 2,
   "id": "6cf83564",
   "metadata": {},
   "outputs": [],
   "source": [
    "def greenext():\n",
    "    row,col,plane = image.shape\n",
    "        \n",
    "    green= np.zeros((row,col,plane),np.uint8)\n",
    "    green[:,:,1] = image[:,:,1]\n",
    "    \n",
    "    green1 = Image.fromarray(green)\n",
    "    \n",
    "    green1= ImageTk.PhotoImage(green1)\n",
    "    \n",
    "    panelB = Label(image=green1, borderwidth=5, relief=\"sunken\")\n",
    "    panelB.image = green1\n",
    "    panelB.grid(row= 1, column=4 , rowspan= 13,columnspan= 3, padx=20, pady=20)\n",
    "       \n",
    "    return green"
   ]
  },
  {
   "cell_type": "code",
   "execution_count": 3,
   "id": "acce45a2",
   "metadata": {},
   "outputs": [],
   "source": [
    "def blueext():\n",
    "    row,col,plane = image.shape\n",
    "        \n",
    "    blue = np.zeros((row,col,plane),np.uint8)\n",
    "    blue[:,:,2] = image[:,:,2]\n",
    "    \n",
    "    blue1 = Image.fromarray(blue)\n",
    "    \n",
    "    blue1= ImageTk.PhotoImage(blue1)\n",
    "    \n",
    "    panelB = Label(image=blue1, borderwidth=5, relief=\"sunken\")\n",
    "    panelB.image = blue1\n",
    "    panelB.grid(row= 1, column=4 , rowspan= 13,columnspan= 3, padx=20, pady=20)\n",
    "        \n",
    "    return blue   "
   ]
  },
  {
   "cell_type": "code",
   "execution_count": 4,
   "id": "c1ac7e4c",
   "metadata": {},
   "outputs": [],
   "source": [
    "def edge():\n",
    "    image = threshold()\n",
    "    \n",
    "    edged = cv2.Canny(image, 50, 100)\n",
    "    edged1 = Image.fromarray(edged)\n",
    "    \n",
    "    edged1= ImageTk.PhotoImage(edged1)\n",
    "    \n",
    "    panelB = Label(image=edged1, borderwidth=5, relief=\"sunken\")\n",
    "    panelB.image = edged1\n",
    "    panelB.grid(row= 1, column=4 , rowspan= 13,columnspan= 3, padx=20, pady=20)\n",
    "    \n",
    "    return edged"
   ]
  },
  {
   "cell_type": "code",
   "execution_count": 5,
   "id": "64d2b07a",
   "metadata": {},
   "outputs": [],
   "source": [
    "def skeleton():\n",
    "    image = threshold()\n",
    "    skel = np.zeros(image.shape, np.uint8)\n",
    "    \n",
    "    element = cv2.getStructuringElement(cv2.MORPH_CROSS, (3,3))\n",
    "    \n",
    "    while True:\n",
    "        open = cv2.morphologyEx(image, cv2.MORPH_OPEN, element)\n",
    "        temp = cv2.subtract(image, open)\n",
    "        eroded = cv2.erode(image, element)\n",
    "        skel = cv2.bitwise_or(skel,temp)\n",
    "        image = eroded.copy()\n",
    "        if cv2.countNonZero(image)==0:\n",
    "            break\n",
    "            \n",
    "    skel1= Image.fromarray(skel)\n",
    "    \n",
    "    skel1= ImageTk.PhotoImage(skel1)\n",
    "    \n",
    "    panelB = Label(image=skel1, borderwidth=5, relief=\"sunken\")\n",
    "    panelB.image = skel1\n",
    "    panelB.grid(row= 1, column=4 , rowspan= 13,columnspan= 3, padx=20, pady=20)\n",
    "\n",
    "    return skel"
   ]
  },
  {
   "cell_type": "code",
   "execution_count": 6,
   "id": "cbd0b179",
   "metadata": {},
   "outputs": [],
   "source": [
    "def denoise():\n",
    "    denoise = cv2.fastNlMeansDenoisingColored(image,None,5,5,7,21)\n",
    "    denoise1 = Image.fromarray(denoise)\n",
    "    \n",
    "    denoise1= ImageTk.PhotoImage(denoise1)\n",
    "    \n",
    "    panelB = Label(image=denoise1, borderwidth=5, relief=\"sunken\")\n",
    "    panelB.image = denoise1\n",
    "    panelB.grid(row= 1, column=4 , rowspan= 13,columnspan= 3, padx=20, pady=20)\n",
    "    \n",
    "    return denoise"
   ]
  },
  {
   "cell_type": "code",
   "execution_count": 7,
   "id": "8516206b",
   "metadata": {},
   "outputs": [],
   "source": [
    "def sharp():\n",
    "    kernel = np.array([[0, -1, 0], [-1, 5,-1], [0, -1, 0]])\n",
    "    sharpened = cv2.filter2D(image, ddepth=-1, kernel=kernel)\n",
    "    \n",
    "    sharpened1 = Image.fromarray(sharpened)\n",
    "    \n",
    "    sharpened1= ImageTk.PhotoImage(sharpened1)\n",
    "    \n",
    "    panelB = Label(image=sharpened1, borderwidth=5, relief=\"sunken\")\n",
    "    panelB.image = sharpened1\n",
    "    panelB.grid(row= 1, column=4 , rowspan= 13,columnspan= 3, padx=20, pady=20)\n",
    "    \n",
    "    return sharpened"
   ]
  },
  {
   "cell_type": "code",
   "execution_count": 8,
   "id": "ce5bc71e",
   "metadata": {},
   "outputs": [],
   "source": [
    "def histo():\n",
    "    histogram = cv2.cvtColor(image, cv2.COLOR_BGR2YUV)\n",
    "    histogram [:,:,0] = cv2.equalizeHist(histogram [:,:,0])\n",
    "    histogram = cv2.cvtColor(histogram, cv2.COLOR_YUV2BGR)\n",
    "    histogram1 = Image.fromarray(histogram)\n",
    "    \n",
    "    histogram1= ImageTk.PhotoImage(histogram1)\n",
    "    \n",
    "    panelB = Label(image=histogram1, borderwidth=5, relief=\"sunken\")\n",
    "    panelB.image = histogram1\n",
    "    panelB.grid(row= 1, column=4 , rowspan= 13,columnspan= 3, padx=20, pady=20)\n",
    "    \n",
    "    return histogram"
   ]
  },
  {
   "cell_type": "code",
   "execution_count": 9,
   "id": "4d5c7b28",
   "metadata": {},
   "outputs": [],
   "source": [
    "def powerlawtrans():\n",
    "    gammaplt = np.array(255*(image/255)**2.05,dtype='uint8')\n",
    "    gammaplt1 = Image.fromarray(gammaplt)\n",
    "    \n",
    "    gammaplt1= ImageTk.PhotoImage(gammaplt1)\n",
    "    \n",
    "    panelB = Label(image=gammaplt1, borderwidth=5, relief=\"sunken\")\n",
    "    panelB.image = gammaplt1\n",
    "    panelB.grid(row= 1, column=4 , rowspan= 13,columnspan= 3, padx=20, pady=20)\n",
    "    \n",
    "    return gammaplt"
   ]
  },
  {
   "cell_type": "code",
   "execution_count": 10,
   "id": "0b7afd32",
   "metadata": {},
   "outputs": [],
   "source": [
    "def maskimg():  \n",
    "    x, y , w, h = cv2.selectROI(image)\n",
    "    start = (x, y)\n",
    "    end = (x + w, y + h)\n",
    "    rect = (x, y , w, h)\n",
    "    \n",
    "    cv2.rectangle(image, start, end, (0,0,255), 3)\n",
    "    mask = np.zeros(image.shape[:2], np.uint8)\n",
    "        \n",
    "    bgdModel = np.zeros((1, 65), np.float64)\n",
    "    fgdModel = np.zeros((1, 65), np.float64)\n",
    "        \n",
    "    cv2.grabCut(image, mask, rect, bgdModel, fgdModel, 100, cv2.GC_INIT_WITH_RECT)\n",
    "    cv2.waitKey(0)\n",
    "    cv2.destroyAllWindows()\n",
    "        \n",
    "    mask1 = np.where((mask == 2) | (mask == 0), 0, 1).astype('uint8')\n",
    "    maskimage = image * mask1[:, :, np.newaxis]\n",
    "    \n",
    "    maskimage1 = Image.fromarray(maskimage)\n",
    "    \n",
    "    maskimage1= ImageTk.PhotoImage(maskimage1)\n",
    "    \n",
    "    panelB = Label(image=maskimage1, borderwidth=5, relief=\"sunken\")\n",
    "    panelB.image = maskimage1\n",
    "    panelB.grid(row= 1, column=4 , rowspan= 13,columnspan= 3, padx=20, pady=20)\n",
    "\n",
    "    return maskimage"
   ]
  },
  {
   "cell_type": "code",
   "execution_count": 11,
   "id": "486e9d54",
   "metadata": {},
   "outputs": [],
   "source": [
    "def pencil():\n",
    "    img=grayscale()\n",
    "    img_invert = cv2.bitwise_not(img)\n",
    "    img_smoothing = cv2.GaussianBlur(img_invert, (25, 25),sigmaX=0, sigmaY=0)\n",
    "    \n",
    "    pencilimg = cv2.divide(img, 255 - img_smoothing, scale=255)\n",
    "    pencilimg1= Image.fromarray(pencilimg)\n",
    "    \n",
    "    pencilimg1= ImageTk.PhotoImage(pencilimg1)\n",
    "    \n",
    "    panelB = Label(image=pencilimg1, borderwidth=5, relief=\"sunken\")\n",
    "    panelB.image = pencilimg1\n",
    "    panelB.grid(row= 1, column=4 , rowspan= 13,columnspan= 3, padx=20, pady=20)\n",
    "    \n",
    "    return pencilimg"
   ]
  },
  {
   "cell_type": "code",
   "execution_count": 12,
   "id": "a7d9fa81",
   "metadata": {},
   "outputs": [],
   "source": [
    "def colpencil():\n",
    "    img_invert = cv2.bitwise_not(image)\n",
    "    img_smoothing = cv2.GaussianBlur(img_invert, (21, 21),sigmaX=0, sigmaY=0)\n",
    "    \n",
    "    colpencilimg = cv2.divide(image, 255- img_smoothing, scale=255)\n",
    "    colpencilimg1= Image.fromarray(colpencilimg)\n",
    "    \n",
    "    colpencilimg1= ImageTk.PhotoImage(colpencilimg1)\n",
    "    \n",
    "    panelB = Label(image=colpencilimg1, borderwidth=5, relief=\"sunken\")\n",
    "    panelB.image = colpencilimg1\n",
    "    panelB.grid(row= 1, column=4 , rowspan= 13,columnspan= 3, padx=20, pady=20)\n",
    "    \n",
    "    return colpencilimg"
   ]
  },
  {
   "cell_type": "code",
   "execution_count": 13,
   "id": "88946f57",
   "metadata": {},
   "outputs": [],
   "source": [
    "def cartoon():\n",
    "    gray=grayscale()\n",
    "    gray = cv2.medianBlur(gray, 5)\n",
    "    edges = cv2.adaptiveThreshold(gray, 255, cv2.ADAPTIVE_THRESH_MEAN_C, cv2.THRESH_BINARY, 9, 9)\n",
    "    \n",
    "    color = cv2.bilateralFilter(image, 9, 250, 250)\n",
    "    cartoon = cv2.bitwise_and(color, color, mask=edges)\n",
    "\n",
    "    cartoon1= Image.fromarray(cartoon)\n",
    "    \n",
    "    cartoon1= ImageTk.PhotoImage(cartoon1)\n",
    "    \n",
    "    panelB = Label(image=cartoon1, borderwidth=5, relief=\"sunken\")\n",
    "    panelB.image = cartoon1\n",
    "    panelB.grid(row= 1, column=4 , rowspan= 13,columnspan= 3, padx=20, pady=20)\n",
    "    \n",
    "    return cartoon"
   ]
  },
  {
   "cell_type": "code",
   "execution_count": 14,
   "id": "b82faca3",
   "metadata": {},
   "outputs": [],
   "source": [
    "def watercolor():\n",
    "    watercolor = cv2.stylization(image, sigma_s=100, sigma_r=0.45)\n",
    "    \n",
    "    watercolor1= Image.fromarray(watercolor)\n",
    "    \n",
    "    watercolor1= ImageTk.PhotoImage(watercolor1)\n",
    "    \n",
    "    panelB = Label(image=watercolor1, borderwidth=5, relief=\"sunken\")\n",
    "    panelB.image = watercolor1\n",
    "    panelB.grid(row= 1, column=4 , rowspan= 13,columnspan= 3, padx=20, pady=20)\n",
    "    \n",
    "    return watercolor"
   ]
  },
  {
   "cell_type": "code",
   "execution_count": 15,
   "id": "2e3c1fe5",
   "metadata": {},
   "outputs": [],
   "source": [
    "def emboss():\n",
    "    kernel = np.array([[0,-1,-1],[1,0,-1],[1,1,0]])\n",
    "    emboss = cv2.filter2D(image, kernel=kernel, ddepth=-1)\n",
    "    emboss= cv2.cvtColor(emboss, cv2.COLOR_BGR2GRAY)\n",
    "    emboss=255-emboss\n",
    "    emboss1= Image.fromarray(emboss)\n",
    "    \n",
    "    emboss1= ImageTk.PhotoImage(emboss1)\n",
    "    \n",
    "    panelB = Label(image=emboss1, borderwidth=5, relief=\"sunken\")\n",
    "    panelB.image = emboss1\n",
    "    panelB.grid(row= 1, column=4 , rowspan= 13,columnspan= 3, padx=20, pady=20)\n",
    "    \n",
    "    return emboss"
   ]
  },
  {
   "cell_type": "code",
   "execution_count": 16,
   "id": "4f9fc3dd",
   "metadata": {},
   "outputs": [
    {
     "ename": "NameError",
     "evalue": "name 'upload' is not defined",
     "output_type": "error",
     "traceback": [
      "\u001b[1;31m---------------------------------------------------------------------------\u001b[0m",
      "\u001b[1;31mNameError\u001b[0m                                 Traceback (most recent call last)",
      "Cell \u001b[1;32mIn[16], line 8\u001b[0m\n\u001b[0;32m      4\u001b[0m l1\u001b[38;5;241m=\u001b[39m Label(root, text\u001b[38;5;241m=\u001b[39m\u001b[38;5;124m\"\u001b[39m\u001b[38;5;124mCLICK THE BUTTONS TO PERFORM THE FUNCTIONALITIES MENTIONED\u001b[39m\u001b[38;5;124m\"\u001b[39m,\n\u001b[0;32m      5\u001b[0m            fg\u001b[38;5;241m=\u001b[39m\u001b[38;5;124m\"\u001b[39m\u001b[38;5;124mwhite\u001b[39m\u001b[38;5;124m\"\u001b[39m, bg\u001b[38;5;241m=\u001b[39m\u001b[38;5;124m\"\u001b[39m\u001b[38;5;124mpurple\u001b[39m\u001b[38;5;124m\"\u001b[39m, width\u001b[38;5;241m=\u001b[39m \u001b[38;5;241m98\u001b[39m, borderwidth\u001b[38;5;241m=\u001b[39m\u001b[38;5;241m5\u001b[39m, relief\u001b[38;5;241m=\u001b[39m\u001b[38;5;124m\"\u001b[39m\u001b[38;5;124mgroove\u001b[39m\u001b[38;5;124m\"\u001b[39m,  font \u001b[38;5;241m=\u001b[39m(\u001b[38;5;124m'\u001b[39m\u001b[38;5;124mVerdana\u001b[39m\u001b[38;5;124m'\u001b[39m, \u001b[38;5;241m15\u001b[39m))\n\u001b[0;32m      6\u001b[0m l1\u001b[38;5;241m.\u001b[39mgrid(row\u001b[38;5;241m=\u001b[39m \u001b[38;5;241m0\u001b[39m, column\u001b[38;5;241m=\u001b[39m \u001b[38;5;241m1\u001b[39m, columnspan\u001b[38;5;241m=\u001b[39m \u001b[38;5;241m6\u001b[39m, padx\u001b[38;5;241m=\u001b[39m\u001b[38;5;241m20\u001b[39m, pady\u001b[38;5;241m=\u001b[39m\u001b[38;5;241m20\u001b[39m, sticky\u001b[38;5;241m=\u001b[39m\u001b[38;5;124m'\u001b[39m\u001b[38;5;124mnesw\u001b[39m\u001b[38;5;124m'\u001b[39m)\n\u001b[1;32m----> 8\u001b[0m btn\u001b[38;5;241m=\u001b[39m Button(root, text\u001b[38;5;241m=\u001b[39m\u001b[38;5;124m\"\u001b[39m\u001b[38;5;124mUPLOAD\u001b[39m\u001b[38;5;124m\"\u001b[39m, fg\u001b[38;5;241m=\u001b[39m\u001b[38;5;124m\"\u001b[39m\u001b[38;5;124mblack\u001b[39m\u001b[38;5;124m\"\u001b[39m, bg\u001b[38;5;241m=\u001b[39m\u001b[38;5;124m\"\u001b[39m\u001b[38;5;124mlavender\u001b[39m\u001b[38;5;124m\"\u001b[39m, command\u001b[38;5;241m=\u001b[39m\u001b[43mupload\u001b[49m)\n\u001b[0;32m      9\u001b[0m btn\u001b[38;5;241m.\u001b[39mgrid(row\u001b[38;5;241m=\u001b[39m \u001b[38;5;241m1\u001b[39m, column\u001b[38;5;241m=\u001b[39m \u001b[38;5;241m0\u001b[39m, padx\u001b[38;5;241m=\u001b[39m\u001b[38;5;241m10\u001b[39m, pady\u001b[38;5;241m=\u001b[39m\u001b[38;5;241m10\u001b[39m, sticky\u001b[38;5;241m=\u001b[39m\u001b[38;5;124m'\u001b[39m\u001b[38;5;124mnesw\u001b[39m\u001b[38;5;124m'\u001b[39m)\n\u001b[0;32m     11\u001b[0m btn1\u001b[38;5;241m=\u001b[39m Button(root, text\u001b[38;5;241m=\u001b[39m\u001b[38;5;124m\"\u001b[39m\u001b[38;5;124mGRAYSCALE\u001b[39m\u001b[38;5;124m\"\u001b[39m, fg\u001b[38;5;241m=\u001b[39m\u001b[38;5;124m\"\u001b[39m\u001b[38;5;124mwhite\u001b[39m\u001b[38;5;124m\"\u001b[39m, bg\u001b[38;5;241m=\u001b[39m\u001b[38;5;124m\"\u001b[39m\u001b[38;5;124msnow4\u001b[39m\u001b[38;5;124m\"\u001b[39m, command\u001b[38;5;241m=\u001b[39mgrayscale)\n",
      "\u001b[1;31mNameError\u001b[0m: name 'upload' is not defined"
     ]
    }
   ],
   "source": [
    "root = Tk()\n",
    "root.title(\"IMAGE PROCESSING\")\n",
    "\n",
    "l1= Label(root, text=\"CLICK THE BUTTONS TO PERFORM THE FUNCTIONALITIES MENTIONED\",\n",
    "           fg=\"white\", bg=\"purple\", width= 98, borderwidth=5, relief=\"groove\",  font =('Verdana', 15))\n",
    "l1.grid(row= 0, column= 1, columnspan= 6, padx=20, pady=20, sticky='nesw')\n",
    "\n",
    "btn= Button(root, text=\"UPLOAD\", fg=\"black\", bg=\"lavender\", command=upload)\n",
    "btn.grid(row= 1, column= 0, padx=10, pady=10, sticky='nesw')\n",
    "\n",
    "btn1= Button(root, text=\"GRAYSCALE\", fg=\"white\", bg=\"snow4\", command=grayscale)\n",
    "btn1.grid(row= 2, column= 0, padx=10, pady=10, sticky='nesw')\n",
    "\n",
    "btn2= Button(root, text=\"INVERT COLOR\", fg=\"white\", bg=\"black\", command=negative)\n",
    "btn2.grid(row= 3, column= 0, padx=10, pady=10, sticky='nesw')\n",
    "\n",
    "btn3= Button(root, text=\"RED ATTRIBUTES\", fg=\"white\", bg=\"red\", command=redext)\n",
    "btn3.grid(row= 4, column= 0, padx=10, pady=10, sticky='nesw')\n",
    "\n",
    "btn4= Button(root, text=\"GREEN ATTRIBUTES\", fg=\"white\", bg=\"green\", command=greenext)\n",
    "btn4.grid(row= 5, column= 0, padx=10, pady=10, sticky='nesw')\n",
    "\n",
    "btn5= Button(root, text=\"BLUE ATTRIBUTES\", fg=\"white\", bg=\"blue\", command=blueext)\n",
    "btn5.grid(row= 6, column= 0, padx=10, pady=10, sticky='nesw')\n",
    "\n",
    "btn6= Button(root, text=\"BINARY\", fg=\"white\", bg=\"black\", command=threshold)\n",
    "btn6.grid(row= 7, column= 0, padx=10, pady=10, sticky='nesw')\n",
    "\n",
    "btn7= Button(root, text=\"EDGE DETECTION\", fg=\"white\", bg=\"black\", command=edge)\n",
    "btn7.grid(row= 8, column= 0, padx=10, pady=10, sticky='nesw')\n",
    "\n",
    "btn8= Button(root, text=\"SKELETON\", fg=\"white\", bg=\"black\", command=skeleton)\n",
    "btn8.grid(row= 9, column= 0, padx=10, pady=10, sticky='nesw')\n",
    "\n",
    "btn9= Button(root, text=\"POWER LAW TRANSFORMATION\", fg=\"white\", bg=\"purple\", command=powerlawtrans)\n",
    "btn9.grid(row= 10, column= 0, padx=10, pady=10, sticky='nesw')\n",
    "\n",
    "btn10= Button(root, text=\"CONTRAST ENHANCEMENT\", fg=\"white\", bg=\"purple\", command=histo)\n",
    "btn10.grid(row= 11, column= 0, padx=10, pady=10, sticky='nesw')\n",
    "\n",
    "btn11= Button(root, text=\"SHARPENING\", fg=\"white\", bg=\"purple\", command=sharp)\n",
    "btn11.grid(row= 12, column= 0, padx=10, pady=10, sticky='nesw')\n",
    "\n",
    "btn12= Button(root, text=\"SMOOTHENING\", fg=\"white\", bg=\"purple\", command=denoise)\n",
    "btn12.grid(row= 13, column= 0, padx=10, pady=10, sticky='nesw')\n",
    "\n",
    "btn13= Button(root, text=\"REMOVE BACKGROUND\", fg=\"white\", bg=\"purple\", command=maskimg)\n",
    "btn13.grid(row= 14, column= 0, padx=10, pady=10, sticky='nesw')\n",
    "\n",
    "btn14= Button(root, text=\"PENCIL SKETCH\", fg=\"white\", bg=\"purple\", command=pencil)\n",
    "btn14.grid(row= 15, column= 1, padx=10, pady=10, sticky='nesw')\n",
    "\n",
    "btn15= Button(root, text=\"COLOR PENCIL SKETCH\", fg=\"white\", bg=\"purple\", command=colpencil)\n",
    "btn15.grid(row= 15, column= 2, padx=10, pady=10, sticky='nesw')\n",
    "\n",
    "btn16= Button(root, text=\"CARTOONIFY\", fg=\"white\", bg=\"purple\", command=cartoon)\n",
    "btn16.grid(row= 15, column= 3, padx=10, pady=10, sticky='nesw')\n",
    "\n",
    "btn17= Button(root, text=\"WATERCOLOR\", fg=\"white\", bg=\"purple\", command=watercolor)\n",
    "btn17.grid(row= 15, column= 4, padx=10, pady=10, sticky='nesw')\n",
    "\n",
    "btn18= Button(root, text=\"EMBOSS\", fg=\"white\", bg=\"purple\", command=emboss)\n",
    "btn18.grid(row= 15, column= 5, padx=10, pady=10, sticky='nesw')\n",
    "\n",
    "btn19= Button(root, text=\"EMBOSS image\", fg=\"white\", bg=\"purple\", command=emboss)\n",
    "btn19.grid(row= 15, column= 6, padx=10, pady=10, sticky='nesw')"
   ]
  },
  {
   "cell_type": "code",
   "execution_count": null,
   "id": "052105ea",
   "metadata": {},
   "outputs": [
    {
     "name": "stderr",
     "output_type": "stream",
     "text": [
      "Exception in Tkinter callback\n",
      "Traceback (most recent call last):\n",
      "  File \"C:\\Users\\HP\\anaconda3\\lib\\tkinter\\__init__.py\", line 1892, in __call__\n",
      "    return self.func(*args)\n",
      "  File \"C:\\Users\\HP\\AppData\\Local\\Temp\\ipykernel_28868\\2655183569.py\", line 13, in maskimg\n",
      "    cv2.grabCut(image, mask, rect, bgdModel, fgdModel, 100, cv2.GC_INIT_WITH_RECT)\n",
      "cv2.error: OpenCV(4.6.0) D:\\a\\opencv-python\\opencv-python\\opencv\\modules\\imgproc\\src\\grabcut.cpp:386: error: (-215:Assertion failed) !bgdSamples.empty() && !fgdSamples.empty() in function 'initGMMs'\n",
      "\n"
     ]
    }
   ],
   "source": [
    "root.mainloop()"
   ]
  },
  {
   "cell_type": "code",
   "execution_count": null,
   "id": "b3b8a727",
   "metadata": {},
   "outputs": [],
   "source": []
  }
 ],
 "metadata": {
  "kernelspec": {
   "display_name": "Python 3 (ipykernel)",
   "language": "python",
   "name": "python3"
  },
  "language_info": {
   "codemirror_mode": {
    "name": "ipython",
    "version": 3
   },
   "file_extension": ".py",
   "mimetype": "text/x-python",
   "name": "python",
   "nbconvert_exporter": "python",
   "pygments_lexer": "ipython3",
   "version": "3.10.9"
  }
 },
 "nbformat": 4,
 "nbformat_minor": 5
}
